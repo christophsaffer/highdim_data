{
 "cells": [
  {
   "cell_type": "markdown",
   "metadata": {},
   "source": [
    "# Learning graph from data"
   ]
  },
  {
   "cell_type": "code",
   "execution_count": 1,
   "metadata": {
    "collapsed": true
   },
   "outputs": [],
   "source": [
    "## import module\n",
    "from CGmodelselection.graph import get_graph_from_data"
   ]
  },
  {
   "cell_type": "markdown",
   "metadata": {},
   "source": [
    "**Specify the data to be used**\n",
    "\n",
    "Specify filename an optionally columns that shall not be loaded in the variable *drop*."
   ]
  },
  {
   "cell_type": "code",
   "execution_count": 51,
   "metadata": {
    "collapsed": true
   },
   "outputs": [],
   "source": [
    "## chose one dataset here (or enter your own), list columns not to be loaded in variable <drop>\n",
    "#filename = \"unittest_data/australian-crabs.csv\"\n",
    "#drop =['index']\n",
    "\n",
    "filename = \"datasets/somedataset.csv\"\n",
    "drop = []\n",
    "\n",
    "#filename = \"datasets/titanic.csv\"\n",
    "#drop = ['PassengerId', 'Name', 'Ticket', 'SibSp', 'Parch']"
   ]
  },
  {
   "cell_type": "code",
   "execution_count": 52,
   "metadata": {
    "collapsed": true
   },
   "outputs": [],
   "source": [
    "import pandas as pd"
   ]
  },
  {
   "cell_type": "code",
   "execution_count": 56,
   "metadata": {},
   "outputs": [
    {
     "data": {
      "text/plain": [
       "Index(['gbifid', 'datasetkey', 'occurrenceid', 'kingdom', 'phylum', 'class',\n",
       "       'order', 'family', 'genus', 'species', 'infraspecificepithet',\n",
       "       'taxonrank', 'scientificname', 'countrycode', 'locality',\n",
       "       'publishingorgkey', 'decimallatitude', 'decimallongitude',\n",
       "       'coordinateuncertaintyinmeters', 'coordinateprecision', 'elevation',\n",
       "       'elevationaccuracy', 'depth', 'depthaccuracy', 'eventdate', 'day',\n",
       "       'month', 'year', 'taxonkey', 'specieskey', 'basisofrecord',\n",
       "       'institutioncode', 'collectioncode', 'catalognumber', 'recordnumber',\n",
       "       'identifiedby', 'license', 'rightsholder', 'recordedby', 'typestatus',\n",
       "       'establishmentmeans', 'lastinterpreted', 'mediatype', 'issue',\n",
       "       'Unnamed: 44', 'Unnamed: 45', 'Unnamed: 46', 'Unnamed: 47'],\n",
       "      dtype='object')"
      ]
     },
     "execution_count": 56,
     "metadata": {},
     "output_type": "execute_result"
    }
   ],
   "source": [
    "df = pd.read_csv(filename)\n",
    "df.columns"
   ]
  },
  {
   "cell_type": "markdown",
   "metadata": {},
   "source": [
    "Disable autoscrolling for outputs."
   ]
  },
  {
   "cell_type": "code",
   "execution_count": 57,
   "metadata": {},
   "outputs": [
    {
     "data": {
      "application/javascript": [
       "IPython.OutputArea.prototype._should_scroll = function(lines) {\n",
       "    return false;\n",
       "}"
      ],
      "text/plain": [
       "<IPython.core.display.Javascript object>"
      ]
     },
     "metadata": {},
     "output_type": "display_data"
    }
   ],
   "source": [
    "%%javascript\n",
    "IPython.OutputArea.prototype._should_scroll = function(lines) {\n",
    "    return false;\n",
    "}"
   ]
  },
  {
   "cell_type": "markdown",
   "metadata": {},
   "source": [
    "**Learn the (weighted) graph**"
   ]
  },
  {
   "cell_type": "code",
   "execution_count": 58,
   "metadata": {
    "scrolled": true
   },
   "outputs": [
    {
     "ename": "TypeError",
     "evalue": "'<' not supported between instances of 'float' and 'str'",
     "output_type": "error",
     "traceback": [
      "\u001b[0;31m---------------------------------------------------------------------------\u001b[0m",
      "\u001b[0;31mTypeError\u001b[0m                                 Traceback (most recent call last)",
      "\u001b[0;32m<ipython-input-58-6818b4cf64a0>\u001b[0m in \u001b[0;36m<module>\u001b[0;34m()\u001b[0m\n\u001b[1;32m      7\u001b[0m \u001b[0;31m## get matrix of group-norms (grpnormmat), graph (graph), and legend for row-/column names (dictionary dlegend)\u001b[0m\u001b[0;34m\u001b[0m\u001b[0;34m\u001b[0m\u001b[0m\n\u001b[1;32m      8\u001b[0m grpnormmat, graph, dlegend = get_graph_from_data(filename, drop = drop, model = model,\n\u001b[0;32m----> 9\u001b[0;31m                                                  graphthreshold = graphthreshold, standardize = standardize, kS = kS)\n\u001b[0m",
      "\u001b[0;32m~/anaconda3/lib/python3.6/site-packages/CGmodelselection/graph.py\u001b[0m in \u001b[0;36mget_graph_from_data\u001b[0;34m(filename, drop, model, graphthreshold, standardize, kS, disp)\u001b[0m\n\u001b[1;32m     29\u001b[0m     \"\"\"\n\u001b[1;32m     30\u001b[0m     data = load_prepare_data(filename, drop = drop,\n\u001b[0;32m---> 31\u001b[0;31m                              standardize = standardize, catuniques = None)\n\u001b[0m\u001b[1;32m     32\u001b[0m     \u001b[0mD\u001b[0m\u001b[0;34m,\u001b[0m \u001b[0mY\u001b[0m\u001b[0;34m,\u001b[0m \u001b[0mmeta\u001b[0m \u001b[0;34m=\u001b[0m \u001b[0mdata\u001b[0m\u001b[0;34m\u001b[0m\u001b[0m\n\u001b[1;32m     33\u001b[0m \u001b[0;34m\u001b[0m\u001b[0m\n",
      "\u001b[0;32m~/anaconda3/lib/python3.6/site-packages/CGmodelselection/dataops.py\u001b[0m in \u001b[0;36mload_prepare_data\u001b[0;34m(datasource, drop, verb, standardize, method, catuniques, shuffle, shuffleseed)\u001b[0m\n\u001b[1;32m    115\u001b[0m     \u001b[0;32melse\u001b[0m\u001b[0;34m:\u001b[0m\u001b[0;34m\u001b[0m\u001b[0m\n\u001b[1;32m    116\u001b[0m         \u001b[0mdata\u001b[0m \u001b[0;34m=\u001b[0m \u001b[0mdatasource\u001b[0m\u001b[0;34m\u001b[0m\u001b[0m\n\u001b[0;32m--> 117\u001b[0;31m     \u001b[0mmeta\u001b[0m \u001b[0;34m=\u001b[0m \u001b[0mget_meta_data\u001b[0m\u001b[0;34m(\u001b[0m\u001b[0mdata\u001b[0m\u001b[0;34m,\u001b[0m \u001b[0mcatuniques\u001b[0m \u001b[0;34m=\u001b[0m \u001b[0mcatuniques\u001b[0m\u001b[0;34m)\u001b[0m\u001b[0;34m\u001b[0m\u001b[0m\n\u001b[0m\u001b[1;32m    118\u001b[0m \u001b[0;34m\u001b[0m\u001b[0m\n\u001b[1;32m    119\u001b[0m \u001b[0;31m#    print(meta)\u001b[0m\u001b[0;34m\u001b[0m\u001b[0;34m\u001b[0m\u001b[0m\n",
      "\u001b[0;32m~/anaconda3/lib/python3.6/site-packages/CGmodelselection/dataops.py\u001b[0m in \u001b[0;36mget_meta_data\u001b[0;34m(data, verb, catuniques)\u001b[0m\n\u001b[1;32m     54\u001b[0m \u001b[0;31m#        if column.dtype == \"object\":\u001b[0m\u001b[0;34m\u001b[0m\u001b[0;34m\u001b[0m\u001b[0m\n\u001b[1;32m     55\u001b[0m \u001b[0;31m#            print(column.unique())\u001b[0m\u001b[0;34m\u001b[0m\u001b[0;34m\u001b[0m\u001b[0m\n\u001b[0;32m---> 56\u001b[0;31m             \u001b[0mlevels\u001b[0m\u001b[0;34m[\u001b[0m\u001b[0mcolname\u001b[0m\u001b[0;34m]\u001b[0m \u001b[0;34m=\u001b[0m \u001b[0msorted\u001b[0m\u001b[0;34m(\u001b[0m\u001b[0mcolumn\u001b[0m\u001b[0;34m.\u001b[0m\u001b[0munique\u001b[0m\u001b[0;34m(\u001b[0m\u001b[0;34m)\u001b[0m\u001b[0;34m)\u001b[0m\u001b[0;34m\u001b[0m\u001b[0m\n\u001b[0m\u001b[1;32m     57\u001b[0m             \u001b[0mcategoricals\u001b[0m\u001b[0;34m.\u001b[0m\u001b[0mappend\u001b[0m\u001b[0;34m(\u001b[0m\u001b[0mcolname\u001b[0m\u001b[0;34m)\u001b[0m\u001b[0;34m\u001b[0m\u001b[0m\n\u001b[1;32m     58\u001b[0m             \u001b[0msizes\u001b[0m\u001b[0;34m.\u001b[0m\u001b[0mappend\u001b[0m\u001b[0;34m(\u001b[0m\u001b[0mlen\u001b[0m\u001b[0;34m(\u001b[0m\u001b[0mlevels\u001b[0m\u001b[0;34m[\u001b[0m\u001b[0mcolname\u001b[0m\u001b[0;34m]\u001b[0m\u001b[0;34m)\u001b[0m\u001b[0;34m)\u001b[0m\u001b[0;34m\u001b[0m\u001b[0m\n",
      "\u001b[0;31mTypeError\u001b[0m: '<' not supported between instances of 'float' and 'str'"
     ]
    }
   ],
   "source": [
    "## parameters for graph estimation\n",
    "standardize = True # standardize data before learning (recommended)\n",
    "kS = 2 # trade-off parameter for l1-regularization term\n",
    "model = 'PW' # choose from 'PW' (pairwise model) and 'CLZ' (CLZ model with triple interactions)\n",
    "graphthreshold = 1e-1 # threshold for graph\n",
    "\n",
    "## get matrix of group-norms (grpnormmat), graph (graph), and legend for row-/column names (dictionary dlegend)\n",
    "grpnormmat, graph, dlegend = get_graph_from_data(filename, drop = drop, model = model,\n",
    "                                                 graphthreshold = graphthreshold, standardize = standardize, kS = kS)"
   ]
  },
  {
   "cell_type": "markdown",
   "metadata": {},
   "source": [
    "**We might also want to rank the edges in terms of their respective edge weights (i.e., their corresponding group-norms).**"
   ]
  },
  {
   "cell_type": "code",
   "execution_count": 43,
   "metadata": {},
   "outputs": [
    {
     "name": "stdout",
     "output_type": "stream",
     "text": [
      "\n",
      "Edge\tEdgeweight\n",
      "4-3\t2.53\n",
      "4-0\t1.87\n",
      "3-1\t1.66\n",
      "2-0\t0.71\n",
      "3-2\t0.43\n",
      "2-1\t0.21\n",
      "3-0\t0.14\n"
     ]
    }
   ],
   "source": [
    "from CGmodelselection.graph import order_edges_by_weight\n",
    "\n",
    "all_ordered_edges = order_edges_by_weight(grpnormmat, disp = True, graphthreshold = graphthreshold)"
   ]
  },
  {
   "cell_type": "code",
   "execution_count": 44,
   "metadata": {},
   "outputs": [
    {
     "data": {
      "text/plain": [
       "[(2.5314976404430749, (4, 3)),\n",
       " (1.8664300488089607, (4, 0)),\n",
       " (1.6583821755610513, (3, 1)),\n",
       " (0.71492935822484405, (2, 0)),\n",
       " (0.42911407480255193, (3, 2)),\n",
       " (0.20548692274983427, (2, 1)),\n",
       " (0.14079502009335923, (3, 0)),\n",
       " (9.344948542119977e-05, (4, 1)),\n",
       " (8.3337406818727894e-05, (1, 0)),\n",
       " (4.098555365297215e-05, (4, 2))]"
      ]
     },
     "execution_count": 44,
     "metadata": {},
     "output_type": "execute_result"
    }
   ],
   "source": [
    "# print all edges\n",
    "all_ordered_edges"
   ]
  },
  {
   "cell_type": "code",
   "execution_count": null,
   "metadata": {
    "collapsed": true
   },
   "outputs": [],
   "source": []
  }
 ],
 "metadata": {
  "kernelspec": {
   "display_name": "Python 3",
   "language": "python",
   "name": "python3"
  },
  "language_info": {
   "codemirror_mode": {
    "name": "ipython",
    "version": 3
   },
   "file_extension": ".py",
   "mimetype": "text/x-python",
   "name": "python",
   "nbconvert_exporter": "python",
   "pygments_lexer": "ipython3",
   "version": "3.6.3"
  }
 },
 "nbformat": 4,
 "nbformat_minor": 2
}
