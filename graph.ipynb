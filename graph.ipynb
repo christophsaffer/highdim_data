{
 "cells": [
  {
   "cell_type": "markdown",
   "metadata": {},
   "source": [
    "# Learning graph from data"
   ]
  },
  {
   "cell_type": "code",
   "execution_count": 1,
   "metadata": {
    "collapsed": true
   },
   "outputs": [],
   "source": [
    "## import module\n",
    "from CGmodelselection.graph import get_graph_from_data"
   ]
  },
  {
   "cell_type": "markdown",
   "metadata": {},
   "source": [
    "**Specify the data to be used**\n",
    "\n",
    "Specify filename an optionally columns that shall not be loaded in the variable *drop*."
   ]
  },
  {
   "cell_type": "code",
   "execution_count": 2,
   "metadata": {
    "collapsed": true
   },
   "outputs": [],
   "source": [
    "## chose one dataset here (or enter your own), list columns not to be loaded in variable <drop>\n",
    "#filename = \"unittest_data/australian-crabs.csv\"\n",
    "#drop =['index']\n",
    "\n",
    "filename = \"datasets/iris.csv\"\n",
    "drop = []\n",
    "\n",
    "#filename = \"datasets/titanic.csv\"\n",
    "#drop = ['PassengerId', 'Name', 'Ticket', 'SibSp', 'Parch']"
   ]
  },
  {
   "cell_type": "markdown",
   "metadata": {},
   "source": [
    "Disable autoscrolling for outputs."
   ]
  },
  {
   "cell_type": "code",
   "execution_count": 3,
   "metadata": {},
   "outputs": [
    {
     "data": {
      "application/javascript": [
       "IPython.OutputArea.prototype._should_scroll = function(lines) {\n",
       "    return false;\n",
       "}"
      ],
      "text/plain": [
       "<IPython.core.display.Javascript object>"
      ]
     },
     "metadata": {},
     "output_type": "display_data"
    }
   ],
   "source": [
    "%%javascript\n",
    "IPython.OutputArea.prototype._should_scroll = function(lines) {\n",
    "    return false;\n",
    "}"
   ]
  },
  {
   "cell_type": "markdown",
   "metadata": {},
   "source": [
    "**Learn the (weighted) graph**"
   ]
  },
  {
   "cell_type": "code",
   "execution_count": 4,
   "metadata": {
    "scrolled": true
   },
   "outputs": [
    {
     "name": "stdout",
     "output_type": "stream",
     "text": [
      "Filename: datasets/iris.csv\n",
      "Using a dataset with 150 samples, 1 discrete and 4 continuous variables.\n",
      "Discrete Variables: ['species']\n",
      "Continuous Variables: ['sepal_length', 'sepal_width', 'petal_length', 'petal_width']\n",
      "\n",
      "Solving problem.. Done.\n"
     ]
    },
    {
     "data": {
      "image/png": "[encoded data removed]",
      "text/plain": [
       "<matplotlib.figure.Figure at 0x7f9da88251d0>"
      ]
     },
     "metadata": {},
     "output_type": "display_data"
    },
    {
     "name": "stdout",
     "output_type": "stream",
     "text": [
      "Legende:\n",
      "0 - species\n",
      "1 - sepal_length\n",
      "2 - sepal_width\n",
      "3 - petal_length\n",
      "4 - petal_width\n"
     ]
    }
   ],
   "source": [
    "## parameters for graph estimation\n",
    "standardize = True # standardize data before learning (recommended)\n",
    "kS = 2 # trade-off parameter for l1-regularization term\n",
    "model = 'PW' # choose from 'PW' (pairwise model) and 'CLZ' (CLZ model with triple interactions)\n",
    "graphthreshold = 1e-1 # threshold for graph\n",
    "\n",
    "## get matrix of group-norms (grpnormmat), graph (graph), and legend for row-/column names (dictionary dlegend)\n",
    "grpnormmat, graph, dlegend = get_graph_from_data(filename, drop = drop, model = model,\n",
    "                                                 graphthreshold = graphthreshold, standardize = standardize, kS = kS)"
   ]
  },
  {
   "cell_type": "markdown",
   "metadata": {},
   "source": [
    "**We might also want to rank the edges in terms of their respective edge weights (i.e., their corresponding group-norms).**"
   ]
  },
  {
   "cell_type": "code",
   "execution_count": 5,
   "metadata": {},
   "outputs": [
    {
     "name": "stdout",
     "output_type": "stream",
     "text": [
      "\n",
      "Edge\tEdgeweight\n",
      "4-3\t2.53\n",
      "4-0\t1.87\n",
      "3-1\t1.66\n",
      "2-0\t0.71\n",
      "3-2\t0.43\n",
      "2-1\t0.21\n",
      "3-0\t0.14\n"
     ]
    }
   ],
   "source": [
    "from CGmodelselection.graph import order_edges_by_weight\n",
    "\n",
    "all_ordered_edges = order_edges_by_weight(grpnormmat, disp = True, graphthreshold = graphthreshold)"
   ]
  },
  {
   "cell_type": "code",
   "execution_count": 6,
   "metadata": {},
   "outputs": [
    {
     "data": {
      "text/plain": [
       "[(2.5316271269980142, (4, 3)),\n",
       " (1.8665811666620116, (4, 0)),\n",
       " (1.6584870326637182, (3, 1)),\n",
       " (0.71493664893482634, (2, 0)),\n",
       " (0.42919539066998397, (3, 2)),\n",
       " (0.20551741556151062, (2, 1)),\n",
       " (0.14069238384717406, (3, 0)),\n",
       " (9.3433223095025321e-05, (4, 1)),\n",
       " (8.3334998038462108e-05, (1, 0)),\n",
       " (4.0943646435990299e-05, (4, 2))]"
      ]
     },
     "execution_count": 6,
     "metadata": {},
     "output_type": "execute_result"
    }
   ],
   "source": [
    "# print all edges\n",
    "all_ordered_edges"
   ]
  }
 ],
 "metadata": {
  "kernelspec": {
   "display_name": "Python 3",
   "language": "python",
   "name": "python3"
  },
  "language_info": {
   "codemirror_mode": {
    "name": "ipython",
    "version": 3
   },
   "file_extension": ".py",
   "mimetype": "text/x-python",
   "name": "python",
   "nbconvert_exporter": "python",
   "pygments_lexer": "ipython3",
   "version": "3.6.3"
  }
 },
 "nbformat": 4,
 "nbformat_minor": 2
}
