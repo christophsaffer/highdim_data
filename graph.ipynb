{
 "cells": [
  {
   "cell_type": "markdown",
   "metadata": {},
   "source": [
    "# Learning graph from data"
   ]
  },
  {
   "cell_type": "code",
   "execution_count": 1,
   "metadata": {
    "collapsed": true
   },
   "outputs": [],
   "source": [
    "## import module\n",
    "from CGmodelselection.graph import get_graph_from_data"
   ]
  },
  {
   "cell_type": "markdown",
   "metadata": {},
   "source": [
    "**Specify the data to be used**\n",
    "\n",
    "Specify filename an optionally columns that shall not be loaded in the variable *drop*."
   ]
  },
  {
   "cell_type": "code",
   "execution_count": 3,
   "metadata": {},
   "outputs": [],
   "source": [
    "## chose one dataset here (or enter your own), list columns not to be loaded in variable <drop>\n",
    "#filename = \"unittest_data/australian-crabs.csv\"\n",
    "#drop =['index']\n",
    "\n",
    "filename = \"embedded_datasets/mpg_tsne.csv\"#datasets/house_complete.csv\"\n",
    "drop = []\n",
    "\n",
    "#filename = \"datasets/titanic.csv\"\n",
    "#drop = ['PassengerId', 'Name', 'Ticket', 'SibSp', 'Parch']"
   ]
  },
  {
   "cell_type": "code",
   "execution_count": 5,
   "metadata": {},
   "outputs": [
    {
     "data": {
      "text/html": [
       "<div>\n",
       "<style>\n",
       "    .dataframe thead tr:only-child th {\n",
       "        text-align: right;\n",
       "    }\n",
       "\n",
       "    .dataframe thead th {\n",
       "        text-align: left;\n",
       "    }\n",
       "\n",
       "    .dataframe tbody tr th {\n",
       "        vertical-align: top;\n",
       "    }\n",
       "</style>\n",
       "<table border=\"1\" class=\"dataframe\">\n",
       "  <thead>\n",
       "    <tr style=\"text-align: right;\">\n",
       "      <th></th>\n",
       "      <th>transmission</th>\n",
       "      <th>cylinder</th>\n",
       "      <th>car_size</th>\n",
       "      <th>year</th>\n",
       "      <th>mpg_city</th>\n",
       "      <th>mpg_highway</th>\n",
       "      <th>displacement</th>\n",
       "      <th>Emb_dim1</th>\n",
       "      <th>Emb_dim2</th>\n",
       "    </tr>\n",
       "  </thead>\n",
       "  <tbody>\n",
       "    <tr>\n",
       "      <th>0</th>\n",
       "      <td>auto</td>\n",
       "      <td>few</td>\n",
       "      <td>small</td>\n",
       "      <td>1988</td>\n",
       "      <td>26.0</td>\n",
       "      <td>30.0</td>\n",
       "      <td>1.4760</td>\n",
       "      <td>29.406290</td>\n",
       "      <td>21.041817</td>\n",
       "    </tr>\n",
       "    <tr>\n",
       "      <th>1</th>\n",
       "      <td>auto</td>\n",
       "      <td>medium</td>\n",
       "      <td>large</td>\n",
       "      <td>2006</td>\n",
       "      <td>16.0</td>\n",
       "      <td>23.0</td>\n",
       "      <td>3.8000</td>\n",
       "      <td>4.151925</td>\n",
       "      <td>-27.600273</td>\n",
       "    </tr>\n",
       "    <tr>\n",
       "      <th>2</th>\n",
       "      <td>auto</td>\n",
       "      <td>medium</td>\n",
       "      <td>midsize</td>\n",
       "      <td>2002</td>\n",
       "      <td>16.0</td>\n",
       "      <td>19.0</td>\n",
       "      <td>2.5000</td>\n",
       "      <td>-12.074004</td>\n",
       "      <td>-15.322079</td>\n",
       "    </tr>\n",
       "    <tr>\n",
       "      <th>3</th>\n",
       "      <td>lock-up</td>\n",
       "      <td>medium</td>\n",
       "      <td>large</td>\n",
       "      <td>1994</td>\n",
       "      <td>11.0</td>\n",
       "      <td>15.0</td>\n",
       "      <td>5.2152</td>\n",
       "      <td>-33.844608</td>\n",
       "      <td>0.713295</td>\n",
       "    </tr>\n",
       "    <tr>\n",
       "      <th>4</th>\n",
       "      <td>auto</td>\n",
       "      <td>medium</td>\n",
       "      <td>large</td>\n",
       "      <td>2003</td>\n",
       "      <td>14.0</td>\n",
       "      <td>15.0</td>\n",
       "      <td>3.9000</td>\n",
       "      <td>-26.575397</td>\n",
       "      <td>-15.370603</td>\n",
       "    </tr>\n",
       "  </tbody>\n",
       "</table>\n",
       "</div>"
      ],
      "text/plain": [
       "  transmission cylinder car_size  year  mpg_city  mpg_highway  displacement  \\\n",
       "0         auto      few    small  1988      26.0         30.0        1.4760   \n",
       "1         auto   medium    large  2006      16.0         23.0        3.8000   \n",
       "2         auto   medium  midsize  2002      16.0         19.0        2.5000   \n",
       "3      lock-up   medium    large  1994      11.0         15.0        5.2152   \n",
       "4         auto   medium    large  2003      14.0         15.0        3.9000   \n",
       "\n",
       "    Emb_dim1   Emb_dim2  \n",
       "0  29.406290  21.041817  \n",
       "1   4.151925 -27.600273  \n",
       "2 -12.074004 -15.322079  \n",
       "3 -33.844608   0.713295  \n",
       "4 -26.575397 -15.370603  "
      ]
     },
     "execution_count": 5,
     "metadata": {},
     "output_type": "execute_result"
    }
   ],
   "source": [
    "import pandas as pd\n",
    "df = pd.read_csv(filename, index_col=0)#, sep=',')\n",
    "df.head()#df.to_csv(\"datasets/girona_hgi_cormophyta.csv\")\n",
    "#df.identifiedby = df.identifiedby.fillna('nan')\n",
    "#sorted(df.identifiedby.unique())"
   ]
  },
  {
   "cell_type": "code",
   "execution_count": 6,
   "metadata": {},
   "outputs": [
    {
     "data": {
      "text/plain": [
       "Index(['transmission', 'cylinder', 'car_size', 'year', 'mpg_city',\n",
       "       'mpg_highway', 'displacement', 'Emb_dim1', 'Emb_dim2'],\n",
       "      dtype='object')"
      ]
     },
     "execution_count": 6,
     "metadata": {},
     "output_type": "execute_result"
    }
   ],
   "source": [
    "df.columns"
   ]
  },
  {
   "cell_type": "markdown",
   "metadata": {},
   "source": [
    "Disable autoscrolling for outputs."
   ]
  },
  {
   "cell_type": "code",
   "execution_count": 7,
   "metadata": {},
   "outputs": [
    {
     "data": {
      "application/javascript": [
       "IPython.OutputArea.prototype._should_scroll = function(lines) {\n",
       "    return false;\n",
       "}"
      ],
      "text/plain": [
       "<IPython.core.display.Javascript object>"
      ]
     },
     "metadata": {},
     "output_type": "display_data"
    }
   ],
   "source": [
    "%%javascript\n",
    "IPython.OutputArea.prototype._should_scroll = function(lines) {\n",
    "    return false;\n",
    "}"
   ]
  },
  {
   "cell_type": "markdown",
   "metadata": {},
   "source": [
    "**Learn the (weighted) graph**"
   ]
  },
  {
   "cell_type": "code",
   "execution_count": 10,
   "metadata": {
    "scrolled": true
   },
   "outputs": [
    {
     "name": "stdout",
     "output_type": "stream",
     "text": [
      "Filename:     transmission cylinder car_size  year  mpg_city  mpg_highway  displacement  \\\n",
      "0           auto      few    small  1988      26.0         30.0        1.4760   \n",
      "1           auto   medium    large  2006      16.0         23.0        3.8000   \n",
      "2           auto   medium  midsize  2002      16.0         19.0        2.5000   \n",
      "3        lock-up   medium    large  1994      11.0         15.0        5.2152   \n",
      "4           auto   medium    large  2003      14.0         15.0        3.9000   \n",
      "5         manual   medium    large  1993      13.0         17.0        5.0020   \n",
      "6           auto   medium    large  1999      15.0         19.0        4.3000   \n",
      "7        lock-up      few  midsize  1992      18.0         23.0        1.8368   \n",
      "8        lock-up      few  midsize  1987      19.0         29.0        2.4764   \n",
      "9         manual      few    small  1996      21.0         29.0        1.9024   \n",
      "10          auto   medium  midsize  2007      15.0         20.0        4.0000   \n",
      "11          auto   medium    large  1998      14.0         17.0        4.3000   \n",
      "12          auto   medium    large  2008      11.0         17.0        3.3000   \n",
      "13        manual   medium    large  1985      14.0         17.0        3.6900   \n",
      "14          auto   medium  midsize  2006      16.0         25.0        2.8000   \n",
      "15          auto   medium  midsize  2004      16.0         22.0        2.5000   \n",
      "16          auto      few  midsize  2001      19.0         23.0        2.0000   \n",
      "17        manual   medium    large  2005      15.0         20.0        4.8000   \n",
      "18        manual      few    small  1993      23.0         31.0        1.8368   \n",
      "19          auto      few  midsize  2006      21.0         27.0        2.4000   \n",
      "20          auto   medium    large  1999      15.0         22.0        3.8000   \n",
      "21       lock-up   medium    large  1988      15.0         17.0        4.2968   \n",
      "22        manual   medium    small  2007      13.0         19.0        4.2000   \n",
      "23          auto      few  midsize  2004      19.0         26.0        2.5000   \n",
      "24          auto   medium  midsize  2008      14.0         20.0        4.0000   \n",
      "25        manual      few    small  1990      19.0         30.0        2.4764   \n",
      "26        manual   medium    large  1992      11.0         16.0        5.7400   \n",
      "27        manual   medium    small  1996      17.0         23.0        2.9684   \n",
      "28        manual      few  midsize  1993      18.0         27.0        1.9844   \n",
      "29          auto   medium    large  2000      14.0         17.0        3.4000   \n",
      "..           ...      ...      ...   ...       ...          ...           ...   \n",
      "970         auto   medium  midsize  2005      17.0         24.0        2.5000   \n",
      "971       manual   medium    large  1987      13.0         15.0        5.7400   \n",
      "972         auto   medium  midsize  2003      13.0         17.0        5.3000   \n",
      "973       manual      few    small  1986      22.0         27.0        1.7876   \n",
      "974       manual     many    small  1988       6.0         10.0        5.1660   \n",
      "975         auto     many    large  2008      11.0         17.0        5.5000   \n",
      "976       manual   medium    large  1986      15.0         20.0        2.8372   \n",
      "977         auto      few  midsize  1999      18.0         27.0        2.4000   \n",
      "978         auto   medium  midsize  2005      14.0         19.0        4.6000   \n",
      "979         auto   medium  midsize  2002      14.0         19.0        4.0000   \n",
      "980       manual      few  midsize  2007      22.0         26.0        2.4000   \n",
      "981         auto   medium  midsize  2003       9.0         12.0        5.3000   \n",
      "982       manual      few    small  1985      26.0         35.0        1.4924   \n",
      "983       manual      few  midsize  1989      21.0         31.0        2.4928   \n",
      "984         auto   medium    large  1998       9.0         13.0        6.7000   \n",
      "985         auto   medium    small  1987      13.0         16.0        5.5432   \n",
      "986      lock-up   medium    small  1992      17.0         22.0        3.2144   \n",
      "987      lock-up   medium    small  1986      17.0         24.0        3.7884   \n",
      "988      lock-up      few    small  1985      21.0         24.0        1.6072   \n",
      "989         auto   medium  midsize  2002      15.0         22.0        3.9000   \n",
      "990         auto   medium  midsize  2000      11.0         15.0        4.7000   \n",
      "991         auto   medium    large  2005      15.0         20.0        4.3000   \n",
      "992         auto   medium  midsize  1998      15.0         23.0        3.4000   \n",
      "993       manual      few  midsize  2003      21.0         27.0        2.4000   \n",
      "994      lock-up   medium    small  1988      15.0         23.0        5.7400   \n",
      "995      lock-up   medium    large  1993      14.0         16.0        3.9196   \n",
      "996       manual      few    small  1985      31.0         41.0        1.5908   \n",
      "997      lock-up   medium    large  1993      13.0         17.0        5.7400   \n",
      "998       manual   medium  midsize  2004      18.0         27.0        3.0000   \n",
      "999         auto   medium    large  2003      13.0         17.0        5.3000   \n",
      "\n",
      "      Emb_dim1   Emb_dim2  \n",
      "0    29.406290  21.041817  \n",
      "1     4.151925 -27.600273  \n",
      "2   -12.074004 -15.322079  \n",
      "3   -33.844608   0.713295  \n",
      "4   -26.575397 -15.370603  \n",
      "5   -30.673973   3.994278  \n",
      "6   -14.356009  -7.654061  \n",
      "7     3.086596  11.255961  \n",
      "8    21.318216  19.537230  \n",
      "9    25.136518   3.627105  \n",
      "10  -14.117486 -27.593594  \n",
      "11  -26.714590  -7.050445  \n",
      "12  -26.742760 -27.007444  \n",
      "13  -36.446281  18.004486  \n",
      "14    8.963804 -23.796432  \n",
      "15   -8.018456 -21.586363  \n",
      "16    1.884944  -8.879011  \n",
      "17  -13.309827 -22.715731  \n",
      "18   28.424038   8.157912  \n",
      "19   20.387901 -18.042053  \n",
      "20  -10.485537  -6.910970  \n",
      "21  -32.899639  14.720595  \n",
      "22  -18.738375 -26.613100  \n",
      "23   11.435520 -16.257969  \n",
      "24  -16.979445 -28.541582  \n",
      "25   23.509638  16.454086  \n",
      "26  -35.290192   3.582717  \n",
      "27   -7.811246   1.605737  \n",
      "28    8.861648  10.795197  \n",
      "29  -25.758080 -10.798604  \n",
      "..         ...        ...  \n",
      "970   6.045712 -21.045509  \n",
      "971 -37.538200  13.542892  \n",
      "972 -27.594610 -17.999140  \n",
      "973  18.353216  25.079531  \n",
      "974 -42.735405   8.799530  \n",
      "975 -27.619205 -25.737419  \n",
      "976  -8.146188  27.183958  \n",
      "977  10.029802  -3.246447  \n",
      "978 -16.555071 -22.738493  \n",
      "979 -14.091972 -16.538115  \n",
      "980  20.427866 -19.442696  \n",
      "981 -33.345943 -22.256628  \n",
      "982  32.461304  22.326395  \n",
      "983  24.519104  17.934702  \n",
      "984 -32.801651  -8.373692  \n",
      "985 -36.702969  14.129412  \n",
      "986 -10.230552  13.347332  \n",
      "987   1.936061  28.496574  \n",
      "988  13.359145  28.737720  \n",
      "989  -7.341235 -15.754797  \n",
      "990 -30.918354 -11.020780  \n",
      "991 -12.715320 -22.584391  \n",
      "992  -8.364419  -3.002469  \n",
      "993  17.808706 -10.671966  \n",
      "994  -4.406678  16.550043  \n",
      "995 -30.157463   5.678384  \n",
      "996  36.311436  22.764050  \n",
      "997 -30.520729   3.331333  \n",
      "998  12.890677 -16.795465  \n",
      "999 -27.354254 -17.369150  \n",
      "\n",
      "[1000 rows x 9 columns]\n",
      "Using a dataset with 1000 samples, 3 discrete and 6 continuous variables.\n",
      "Discrete Variables: ['transmission', 'cylinder', 'car_size']\n",
      "Continuous Variables: ['year', 'mpg_city', 'mpg_highway', 'displacement', 'Emb_dim1', 'Emb_dim2']\n",
      "\n",
      "Solving problem.. Done.\n"
     ]
    },
    {
     "data": {
      "image/png": "[encoded data removed]",
      "text/plain": [
       "<matplotlib.figure.Figure at 0x7f6d5f475048>"
      ]
     },
     "metadata": {},
     "output_type": "display_data"
    },
    {
     "name": "stdout",
     "output_type": "stream",
     "text": [
      "Legend:\n",
      "0 - transmission\n",
      "1 - cylinder\n",
      "2 - car_size\n",
      "3 - year\n",
      "4 - mpg_city\n",
      "5 - mpg_highway\n",
      "6 - displacement\n",
      "7 - Emb_dim1\n",
      "8 - Emb_dim2\n"
     ]
    }
   ],
   "source": [
    "## parameters for graph estimation\n",
    "standardize = True # standardize data before learning (recommended)\n",
    "kS = 2 # trade-off parameter for l1-regularization term\n",
    "model = 'PW' # choose from 'PW' (pairwise model) and 'CLZ' (CLZ model with triple interactions)\n",
    "graphthreshold = 1e-1 # threshold for graph\n",
    "\n",
    "## get matrix of group-norms (grpnormmat), graph (graph), and legend for row-/column names (dictionary dlegend)\n",
    "grpnormmat, graph, dlegend = get_graph_from_data(df, drop = drop, model = model,\n",
    "                                                 graphthreshold = graphthreshold, standardize = standardize, kS = kS)"
   ]
  },
  {
   "cell_type": "markdown",
   "metadata": {},
   "source": [
    "**We might also want to rank the edges in terms of their respective edge weights (i.e., their corresponding group-norms).**"
   ]
  },
  {
   "cell_type": "code",
   "execution_count": 11,
   "metadata": {},
   "outputs": [
    {
     "name": "stdout",
     "output_type": "stream",
     "text": [
      "\n",
      "Edge\tEdgeweight\n",
      "8-3\t6.26\n",
      "7-5\t4.18\n",
      "5-4\t2.71\n",
      "6-1\t1.82\n",
      "8-0\t1.14\n",
      "4-1\t1.13\n",
      "7-6\t1.07\n",
      "5-2\t0.63\n",
      "7-4\t0.62\n",
      "6-4\t0.54\n",
      "7-2\t0.53\n",
      "7-3\t0.44\n",
      "6-2\t0.44\n",
      "8-4\t0.36\n",
      "2-0\t0.27\n",
      "5-0\t0.17\n",
      "3-2\t0.11\n",
      "8-6\t0.10\n"
     ]
    }
   ],
   "source": [
    "from CGmodelselection.graph import order_edges_by_weight\n",
    "\n",
    "all_ordered_edges = order_edges_by_weight(grpnormmat, disp = True, graphthreshold = graphthreshold)"
   ]
  },
  {
   "cell_type": "code",
   "execution_count": 12,
   "metadata": {},
   "outputs": [
    {
     "data": {
      "text/plain": [
       "[(6.2588937843744032, (8, 3)),\n",
       " (4.1784229349159165, (7, 5)),\n",
       " (2.7068611135381531, (5, 4)),\n",
       " (1.8175192702633585, (6, 1)),\n",
       " (1.143032686541354, (8, 0)),\n",
       " (1.1272212222563165, (4, 1)),\n",
       " (1.0650504379398897, (7, 6)),\n",
       " (0.62723955228794215, (5, 2)),\n",
       " (0.61708465608241048, (7, 4)),\n",
       " (0.53667189777384217, (6, 4)),\n",
       " (0.53449905679051624, (7, 2)),\n",
       " (0.44038874258859845, (7, 3)),\n",
       " (0.43834690950185795, (6, 2)),\n",
       " (0.35878182059909092, (8, 4)),\n",
       " (0.26766554013863347, (2, 0)),\n",
       " (0.17008849745217106, (5, 0)),\n",
       " (0.10987499083810515, (3, 2)),\n",
       " (0.10102935095696761, (8, 6)),\n",
       " (0.08728546605327786, (6, 0)),\n",
       " (0.070325942600816468, (8, 1)),\n",
       " (0.017516028379936318, (8, 7)),\n",
       " (9.9672842193738025e-05, (7, 1)),\n",
       " (9.6145257074717018e-05, (3, 0)),\n",
       " (9.5269332063504757e-05, (1, 0)),\n",
       " (9.3309811738961866e-05, (8, 2)),\n",
       " (8.7135869990223944e-05, (5, 3)),\n",
       " (8.247250503855524e-05, (8, 5)),\n",
       " (8.1487889282495963e-05, (4, 0)),\n",
       " (6.3219589979313985e-05, (6, 3)),\n",
       " (5.8871483933793049e-05, (7, 0)),\n",
       " (5.4822166302250994e-05, (4, 3)),\n",
       " (4.4563626907985342e-05, (4, 2)),\n",
       " (3.1066842841800527e-05, (2, 1)),\n",
       " (2.7199347573827895e-05, (5, 1)),\n",
       " (1.4020034623854878e-05, (6, 5)),\n",
       " (1.3763391374383111e-05, (3, 1))]"
      ]
     },
     "execution_count": 12,
     "metadata": {},
     "output_type": "execute_result"
    }
   ],
   "source": [
    "# print all edges\n",
    "all_ordered_edges"
   ]
  },
  {
   "cell_type": "code",
   "execution_count": null,
   "metadata": {
    "collapsed": true
   },
   "outputs": [],
   "source": []
  }
 ],
 "metadata": {
  "kernelspec": {
   "display_name": "Python 3",
   "language": "python",
   "name": "python3"
  },
  "language_info": {
   "codemirror_mode": {
    "name": "ipython",
    "version": 3
   },
   "file_extension": ".py",
   "mimetype": "text/x-python",
   "name": "python",
   "nbconvert_exporter": "python",
   "pygments_lexer": "ipython3",
   "version": "3.6.3"
  }
 },
 "nbformat": 4,
 "nbformat_minor": 2
}
